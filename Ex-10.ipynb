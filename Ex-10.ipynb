{
 "cells": [
  {
   "cell_type": "code",
   "execution_count": 1,
   "id": "c7c03aa1-1377-4bd4-902b-fe83ac6fd199",
   "metadata": {},
   "outputs": [],
   "source": [
    "import cv2\n",
    "import numpy as np\n",
    "import matplotlib.pyplot as plt"
   ]
  },
  {
   "cell_type": "code",
   "execution_count": 2,
   "id": "5c9a752d-8df7-41bc-bc28-7d07d742de59",
   "metadata": {},
   "outputs": [],
   "source": [
    "image=np.zeros((300,600,3),dtype=\"uint8\")"
   ]
  },
  {
   "cell_type": "code",
   "execution_count": 3,
   "id": "30802596-43a1-4c3c-8b8b-3890b2e647da",
   "metadata": {},
   "outputs": [
    {
     "data": {
      "text/plain": [
       "array([[[0, 0, 0],\n",
       "        [0, 0, 0],\n",
       "        [0, 0, 0],\n",
       "        ...,\n",
       "        [0, 0, 0],\n",
       "        [0, 0, 0],\n",
       "        [0, 0, 0]],\n",
       "\n",
       "       [[0, 0, 0],\n",
       "        [0, 0, 0],\n",
       "        [0, 0, 0],\n",
       "        ...,\n",
       "        [0, 0, 0],\n",
       "        [0, 0, 0],\n",
       "        [0, 0, 0]],\n",
       "\n",
       "       [[0, 0, 0],\n",
       "        [0, 0, 0],\n",
       "        [0, 0, 0],\n",
       "        ...,\n",
       "        [0, 0, 0],\n",
       "        [0, 0, 0],\n",
       "        [0, 0, 0]],\n",
       "\n",
       "       ...,\n",
       "\n",
       "       [[0, 0, 0],\n",
       "        [0, 0, 0],\n",
       "        [0, 0, 0],\n",
       "        ...,\n",
       "        [0, 0, 0],\n",
       "        [0, 0, 0],\n",
       "        [0, 0, 0]],\n",
       "\n",
       "       [[0, 0, 0],\n",
       "        [0, 0, 0],\n",
       "        [0, 0, 0],\n",
       "        ...,\n",
       "        [0, 0, 0],\n",
       "        [0, 0, 0],\n",
       "        [0, 0, 0]],\n",
       "\n",
       "       [[0, 0, 0],\n",
       "        [0, 0, 0],\n",
       "        [0, 0, 0],\n",
       "        ...,\n",
       "        [0, 0, 0],\n",
       "        [0, 0, 0],\n",
       "        [0, 0, 0]]], shape=(300, 600, 3), dtype=uint8)"
      ]
     },
     "execution_count": 3,
     "metadata": {},
     "output_type": "execute_result"
    }
   ],
   "source": [
    "text=\"RAMANUJAM\"\n",
    "font=cv2.FONT_HERSHEY_SIMPLEX\n",
    "cv2.putText(image,text,(50,150),font,2,(255,255,255),3)"
   ]
  },
  {
   "cell_type": "code",
   "execution_count": 5,
   "id": "5bf225c8-a09d-40ff-b35f-9bd26f7aba25",
   "metadata": {},
   "outputs": [],
   "source": [
    "kernel=cv2.getStructuringElement(cv2.MORPH_RECT,(5,5))"
   ]
  },
  {
   "cell_type": "code",
   "execution_count": 6,
   "id": "ebe827f4-0b89-4c6d-b609-37209d872fad",
   "metadata": {},
   "outputs": [],
   "source": [
    "opening_image=cv2.morphologyEx(image,cv2.MORPH_OPEN,kernel)"
   ]
  },
  {
   "cell_type": "code",
   "execution_count": 7,
   "id": "52ab9191-3956-41f9-a030-d4278fd9efdd",
   "metadata": {},
   "outputs": [],
   "source": [
    "closing_image=cv2.morphologyEx(image,cv2.MORPH_CLOSE,kernel)"
   ]
  },
  {
   "cell_type": "code",
   "execution_count": 9,
   "id": "95f364e5-f96e-4757-bbaf-73cf730d033e",
   "metadata": {},
   "outputs": [],
   "source": [
    "image_rgb=cv2.cvtColor(image, cv2.COLOR_BGR2RGB)\n",
    "opening_image_rgb=cv2.cvtColor(opening_image,cv2.COLOR_BGR2RGB)\n",
    "closing_image_rgb=cv2.cvtColor(closing_image,cv2.COLOR_BGR2RGB)"
   ]
  },
  {
   "cell_type": "code",
   "execution_count": null,
   "id": "0f364472-755e-4a72-a88b-248f5b1f3bfd",
   "metadata": {},
   "outputs": [],
   "source": [
    "plt.figure(figsize=(10,5))\n",
    "plt.subplot(1,3,1);plt.imshow(image_rgb);plt.title(\"Original Image\");plt.axis(\"off\")\n",
    "plt.subplot(1,3,2);plt.imshow(opening_image_rgb);plt.title(\"Opening Operation\");plt.axis(\"off\")\n",
    "plt.subplot(1,3,3);plt.imshow(closing_image_rgb);plt.title(\"Closing Operation\");plt.axis(\"off\")\n"
   ]
  }
 ],
 "metadata": {
  "kernelspec": {
   "display_name": "Python 3 (ipykernel)",
   "language": "python",
   "name": "python3"
  },
  "language_info": {
   "codemirror_mode": {
    "name": "ipython",
    "version": 3
   },
   "file_extension": ".py",
   "mimetype": "text/x-python",
   "name": "python",
   "nbconvert_exporter": "python",
   "pygments_lexer": "ipython3",
   "version": "3.11.13"
  }
 },
 "nbformat": 4,
 "nbformat_minor": 5
}
